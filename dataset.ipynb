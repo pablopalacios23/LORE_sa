{
 "cells": [
  {
   "cell_type": "markdown",
   "id": "33da298e",
   "metadata": {},
   "source": [
    "# Adult preprocessing"
   ]
  },
  {
   "cell_type": "code",
   "execution_count": null,
   "id": "bc5f7f10",
   "metadata": {},
   "outputs": [
    {
     "name": "stdout",
     "output_type": "stream",
     "text": [
      "age: 0 valores '?' o ' ?'\n",
      "workclass: 0 valores '?' o ' ?'\n",
      "fnlwgt: 0 valores '?' o ' ?'\n",
      "education: 0 valores '?' o ' ?'\n",
      "education-num: 0 valores '?' o ' ?'\n",
      "marital-status: 0 valores '?' o ' ?'\n",
      "occupation: 0 valores '?' o ' ?'\n",
      "relationship: 0 valores '?' o ' ?'\n",
      "race: 0 valores '?' o ' ?'\n",
      "sex: 0 valores '?' o ' ?'\n",
      "capital-gain: 0 valores '?' o ' ?'\n",
      "capital-loss: 0 valores '?' o ' ?'\n",
      "hours-per-week: 0 valores '?' o ' ?'\n",
      "native-country: 0 valores '?' o ' ?'\n",
      "class: 0 valores '?' o ' ?'\n"
     ]
    }
   ],
   "source": [
    "import pandas as pd\n",
    "\n",
    "# Cargar el dataset\n",
    "df_Adult = pd.read_csv('test/resources/adult.csv')\n",
    "\n",
    "df_Adult.columns = df_Adult.columns.str.strip()\n",
    "\n",
    "for col in df_Adult.columns:\n",
    "    count = ((df_Adult[col].astype(str).str.strip() == \"?\") | (df_Adult[col].astype(str) == \" ?\")).sum()\n",
    "    print(f\"{col}: {count} valores '?' o ' ?'\")\n",
    "\n",
    "df_Adult = df_Adult[~df_Adult[\"workclass\"].isin([\" ?\", \"?\"])]\n",
    "df_Adult = df_Adult[~df_Adult[\"occupation\"].isin([\" ?\", \"?\"])]\n",
    "df_Adult = df_Adult[~df_Adult[\"native-country\"].isin([\" ?\", \"?\"])]\n",
    "\n",
    "print(df_Adult['class'].value_counts())  # Debería mostrar 24 y 24\n",
    "\n",
    "df_Adult.to_csv(\"test/resources/adult.csv\", index=False)"
   ]
  },
  {
   "cell_type": "markdown",
   "id": "f83f3945",
   "metadata": {},
   "source": [
    "# Diabetes preprocessing"
   ]
  },
  {
   "cell_type": "code",
   "execution_count": 11,
   "id": "d575f992",
   "metadata": {},
   "outputs": [
    {
     "name": "stdout",
     "output_type": "stream",
     "text": [
      "Pregnancies: 0 valores '?' o ' ?'\n",
      "Glucose: 0 valores '?' o ' ?'\n",
      "BloodPressure: 0 valores '?' o ' ?'\n",
      "SkinThickness: 0 valores '?' o ' ?'\n",
      "Insulin: 0 valores '?' o ' ?'\n",
      "BMI: 0 valores '?' o ' ?'\n",
      "DiabetesPedigreeFunction: 0 valores '?' o ' ?'\n",
      "Age: 0 valores '?' o ' ?'\n",
      "Outcome: 0 valores '?' o ' ?'\n",
      "\n",
      "\n",
      "Outcome\n",
      "0    500\n",
      "1    268\n",
      "Name: count, dtype: int64\n",
      "\n",
      "\n"
     ]
    }
   ],
   "source": [
    "import pandas as pd\n",
    "\n",
    "# Cargar el dataset\n",
    "df_diabetes = pd.read_csv('test/resources/diabetes.csv')\n",
    "\n",
    "df_diabetes.columns = df_diabetes.columns.str.strip()\n",
    "\n",
    "for col in df_diabetes.columns:\n",
    "    count = ((df_diabetes[col].astype(str).str.strip() == \"?\") | (df_diabetes[col].astype(str) == \" ?\")).sum()\n",
    "    print(f\"{col}: {count} valores '?' o ' ?'\")\n",
    "\n",
    "print(\"\\n\")\n",
    "print(df_diabetes['Outcome'].value_counts())  # Debería mostrar 24 y 24\n",
    "print(\"\\n\")\n",
    "\n",
    "# Mapear Outcome\n",
    "df_diabetes[\"Outcome\"] = df_diabetes[\"Outcome\"].map({0: \"No\", 1: \"Yes\"})\n",
    "\n",
    "df_diabetes.to_csv(\"test/resources/diabetes.csv\", index=False)"
   ]
  }
 ],
 "metadata": {
  "kernelspec": {
   "display_name": "base",
   "language": "python",
   "name": "python3"
  },
  "language_info": {
   "codemirror_mode": {
    "name": "ipython",
    "version": 3
   },
   "file_extension": ".py",
   "mimetype": "text/x-python",
   "name": "python",
   "nbconvert_exporter": "python",
   "pygments_lexer": "ipython3",
   "version": "3.12.7"
  }
 },
 "nbformat": 4,
 "nbformat_minor": 5
}
